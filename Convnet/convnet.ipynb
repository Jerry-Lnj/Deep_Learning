{
 "cells": [
  {
   "cell_type": "code",
   "execution_count": 1,
   "id": "1512e0b5",
   "metadata": {},
   "outputs": [
    {
     "name": "stdout",
     "output_type": "stream",
     "text": [
      "['data_batch_1', 'readme.html', 'batches.meta', 'data_batch_2', 'data_batch_5', 'test_batch', 'data_batch_4', 'data_batch_3']\n"
     ]
    }
   ],
   "source": [
    "import tensorflow as tf\n",
    "import os\n",
    "import pickle\n",
    "import numpy as np\n",
    "\n",
    "CIFAR_DIR = \"./cifar-10-batches-py\"\n",
    "print(os.listdir(CIFAR_DIR))"
   ]
  },
  {
   "cell_type": "code",
   "execution_count": 2,
   "id": "fd12ff14",
   "metadata": {},
   "outputs": [],
   "source": [
    "def load_data(filename):\n",
    "    \"\"\"read data from data file\"\"\"\n",
    "    with open(filename, \"rb\") as f:\n",
    "        data = pickle.load(f, encoding='latin1')\n",
    "        return data['data'], data['labels']\n",
    "    \n",
    "class CifarData:\n",
    "    def __init__(self, filenames, need_shuffle):\n",
    "        all_data = []\n",
    "        all_labels = []\n",
    "        for filename in filenames:\n",
    "            data, labels = load_data(filename)\n",
    "            all_data.append(data)\n",
    "            all_labels.append(labels)\n",
    "        self._data = np.vstack(all_data)\n",
    "        self._data = self._data / 127.5 -1\n",
    "        self._labels = np.hstack(all_labels)\n",
    "        #print(self._data.shape)\n",
    "        #print(self._labels.shape)\n",
    "        self._num_examples = self._data.shape[0]\n",
    "        self._need_shuffle = need_shuffle\n",
    "        self._indicator = 0\n",
    "        if self._need_shuffle:\n",
    "            self._shuffle_data()\n",
    "    \n",
    "    def _shuffle_data(self):\n",
    "        p = np.random.permutation(self._num_examples)\n",
    "        self._data = self._data[p]\n",
    "        self._labels = self._labels[p]\n",
    "        \n",
    "    def next_batch(self, batch_size):\n",
    "        end_indicator = self._indicator + batch_size\n",
    "        if end_indicator > self._num_examples:\n",
    "            if self._need_shuffle:\n",
    "                self._shuffle_data()\n",
    "                self._indicator = 0\n",
    "                end_indicator = batch_size\n",
    "            else:\n",
    "                raise Exception(\"have no more examples\")\n",
    "                    \n",
    "        if end_indicator > self._num_examples:\n",
    "            raise Exception(\"batch size is larger than all examples\")\n",
    "        batch_data = self._data[self._indicator: end_indicator]\n",
    "        batch_labels = self._labels[self._indicator: end_indicator]\n",
    "        self._indicator = end_indicator\n",
    "        return batch_data, batch_labels\n",
    "    \n",
    "train_filenames = [os.path.join(CIFAR_DIR, 'data_batch_%d' %i) for i in range(1,6)]\n",
    "test_filenames = [os.path.join(CIFAR_DIR, 'test_batch')]\n",
    "\n",
    "train_data = CifarData(train_filenames, True)\n",
    "test_data = CifarData(test_filenames, False)\n",
    "\n",
    "#batch_data, batch_labels = train_data.next_batch(10)\n",
    "#print(batch_data)\n",
    "#print(batch_labels)"
   ]
  },
  {
   "cell_type": "code",
   "execution_count": 3,
   "id": "e32aac75",
   "metadata": {},
   "outputs": [
    {
     "name": "stderr",
     "output_type": "stream",
     "text": [
      "/var/folders/n9/chhy6rnj2m3bh5gqhm0yjn6w0000gn/T/ipykernel_20546/3857448755.py:9: UserWarning: `tf.layers.conv2d` is deprecated and will be removed in a future version. Please Use `tf.keras.layers.Conv2D` instead.\n",
      "  conv1 = tf.compat.v1.layers.conv2d(x_image,\n",
      "/opt/anaconda3/lib/python3.9/site-packages/keras/legacy_tf_layers/convolutional.py:563: UserWarning: `layer.apply` is deprecated and will be removed in a future version. Please use `layer.__call__` method instead.\n",
      "  return layer.apply(inputs)\n",
      "/var/folders/n9/chhy6rnj2m3bh5gqhm0yjn6w0000gn/T/ipykernel_20546/3857448755.py:16: UserWarning: `tf.layers.max_pooling2d` is deprecated and will be removed in a future version. Please use `tf.keras.layers.MaxPooling2D` instead.\n",
      "  pooling1 = tf.compat.v1.layers.max_pooling2d(conv1,\n",
      "/opt/anaconda3/lib/python3.9/site-packages/keras/legacy_tf_layers/pooling.py:568: UserWarning: `layer.apply` is deprecated and will be removed in a future version. Please use `layer.__call__` method instead.\n",
      "  return layer.apply(inputs)\n",
      "/var/folders/n9/chhy6rnj2m3bh5gqhm0yjn6w0000gn/T/ipykernel_20546/3857448755.py:22: UserWarning: `tf.layers.conv2d` is deprecated and will be removed in a future version. Please Use `tf.keras.layers.Conv2D` instead.\n",
      "  conv2 = tf.compat.v1.layers.conv2d(pooling1,\n",
      "/var/folders/n9/chhy6rnj2m3bh5gqhm0yjn6w0000gn/T/ipykernel_20546/3857448755.py:29: UserWarning: `tf.layers.max_pooling2d` is deprecated and will be removed in a future version. Please use `tf.keras.layers.MaxPooling2D` instead.\n",
      "  pooling2 = tf.compat.v1.layers.max_pooling2d(conv2,\n",
      "/var/folders/n9/chhy6rnj2m3bh5gqhm0yjn6w0000gn/T/ipykernel_20546/3857448755.py:35: UserWarning: `tf.layers.conv2d` is deprecated and will be removed in a future version. Please Use `tf.keras.layers.Conv2D` instead.\n",
      "  conv3 = tf.compat.v1.layers.conv2d(pooling2,\n",
      "/var/folders/n9/chhy6rnj2m3bh5gqhm0yjn6w0000gn/T/ipykernel_20546/3857448755.py:42: UserWarning: `tf.layers.max_pooling2d` is deprecated and will be removed in a future version. Please use `tf.keras.layers.MaxPooling2D` instead.\n",
      "  pooling3 = tf.compat.v1.layers.max_pooling2d(conv3,\n",
      "/var/folders/n9/chhy6rnj2m3bh5gqhm0yjn6w0000gn/T/ipykernel_20546/3857448755.py:48: UserWarning: `tf.layers.flatten` is deprecated and will be removed in a future version. Please use `tf.keras.layers.Flatten` instead.\n",
      "  flatten = tf.compat.v1.layers.flatten(pooling3)\n",
      "/opt/anaconda3/lib/python3.9/site-packages/keras/legacy_tf_layers/core.py:523: UserWarning: `layer.apply` is deprecated and will be removed in a future version. Please use `layer.__call__` method instead.\n",
      "  return layer.apply(inputs)\n",
      "/var/folders/n9/chhy6rnj2m3bh5gqhm0yjn6w0000gn/T/ipykernel_20546/3857448755.py:49: UserWarning: `tf.layers.dense` is deprecated and will be removed in a future version. Please use `tf.keras.layers.Dense` instead.\n",
      "  y_ = tf.compat.v1.layers.dense(flatten, 10)\n",
      "/opt/anaconda3/lib/python3.9/site-packages/keras/legacy_tf_layers/core.py:255: UserWarning: `layer.apply` is deprecated and will be removed in a future version. Please use `layer.__call__` method instead.\n",
      "  return layer.apply(inputs)\n"
     ]
    }
   ],
   "source": [
    "import tensorflow as tf\n",
    "tf.compat.v1.disable_eager_execution()\n",
    "\n",
    "x = tf.compat.v1.placeholder(tf.float32, [None,3072])\n",
    "y = tf.compat.v1.placeholder(tf.int64, [None])\n",
    "x_image = tf.reshape(x, [-1, 3, 32, 32])\n",
    "x_image = tf.transpose(x_image, perm=[0,2,3,1])\n",
    "\n",
    "conv1 = tf.compat.v1.layers.conv2d(x_image,\n",
    "                         32, \n",
    "                         (3,3), \n",
    "                         padding = 'same',\n",
    "                         activation = tf.nn.relu,\n",
    "                         name = 'conv1'\n",
    "                        )\n",
    "pooling1 = tf.compat.v1.layers.max_pooling2d(conv1, \n",
    "                                   (2, 2),\n",
    "                                   (2, 2),\n",
    "                                   name = 'pool1'\n",
    "                                  )\n",
    "\n",
    "conv2 = tf.compat.v1.layers.conv2d(pooling1,\n",
    "                         32, \n",
    "                         (3,3), \n",
    "                         padding = 'same',\n",
    "                         activation = tf.nn.relu,\n",
    "                         name = 'conv2'\n",
    "                        )\n",
    "pooling2 = tf.compat.v1.layers.max_pooling2d(conv2, \n",
    "                                   (2, 2),\n",
    "                                   (2, 2),\n",
    "                                   name = 'pool2'\n",
    "                                  )\n",
    "\n",
    "conv3 = tf.compat.v1.layers.conv2d(pooling2,\n",
    "                         32, \n",
    "                         (3,3), \n",
    "                         padding = 'same',\n",
    "                         activation = tf.nn.relu,\n",
    "                         name = 'conv3'\n",
    "                        )\n",
    "pooling3 = tf.compat.v1.layers.max_pooling2d(conv3, \n",
    "                                   (2, 2),\n",
    "                                   (2, 2),\n",
    "                                   name = 'pool3'\n",
    "                                  )\n",
    "\n",
    "flatten = tf.compat.v1.layers.flatten(pooling3)\n",
    "y_ = tf.compat.v1.layers.dense(flatten, 10)\n",
    "\n",
    "loss = tf.compat.v1.losses.sparse_softmax_cross_entropy(labels = y, logits= y_)\n",
    "\n",
    "predict = tf.argmax(y_, 1)\n",
    "correct_prediction = tf.equal(predict, y)\n",
    "accuracy = tf.reduce_mean(tf.cast(correct_prediction, tf.float64))\n",
    "\n",
    "with tf.name_scope('train_op'):\n",
    "    train_op = tf.compat.v1.train.AdamOptimizer(1e-3).minimize(loss)"
   ]
  },
  {
   "cell_type": "code",
   "execution_count": 4,
   "id": "f4888b49",
   "metadata": {},
   "outputs": [
    {
     "name": "stderr",
     "output_type": "stream",
     "text": [
      "2022-02-11 15:18:38.631473: I tensorflow/core/platform/cpu_feature_guard.cc:151] This TensorFlow binary is optimized with oneAPI Deep Neural Network Library (oneDNN) to use the following CPU instructions in performance-critical operations:  AVX2 FMA\n",
      "To enable them in other operations, rebuild TensorFlow with the appropriate compiler flags.\n"
     ]
    },
    {
     "name": "stdout",
     "output_type": "stream",
     "text": [
      "[Train] Step: 499, loss: 0.94662, acc:0.70000\n",
      "[Train] Step: 999, loss: 1.12866, acc:0.65000\n"
     ]
    }
   ],
   "source": [
    "init = tf.compat.v1.global_variables_initializer()\n",
    "batch_size = 20\n",
    "train_steps = 1000\n",
    "test_steps = 100\n",
    "\n",
    "with tf.compat.v1.Session() as sess:\n",
    "    sess.run(init)\n",
    "    for i in range(train_steps):\n",
    "        batch_data, batch_labels = train_data.next_batch(batch_size)\n",
    "        loss_val, acc_val, _ = sess.run([loss, accuracy, train_op], feed_dict={x:batch_data, y:batch_labels})\n",
    "        if (i+1) %500 == 0:\n",
    "            print (\"[Train] Step: %d, loss: %4.5f, acc:%4.5f\" %(i, loss_val, acc_val))\n",
    "        if (i+1) %5000 ==0:\n",
    "            test_data = CifarData(test_filenames, False)\n",
    "            all_test_acc_val = []\n",
    "            for j in range(test_steps):\n",
    "                test_batch_data, test_batch_labels = test_data.next_batch(batch_size)\n",
    "                test_acc_val = sess.run([accuracy],feed_dict = {x:test_batch_data,y:test_batch_labels})\n",
    "                all_test_acc_val.append(test_acc_val)\n",
    "                test_acc=np.mean(all_test_acc_val)\n",
    "                print('[Test] Step: %d, acc: %4.5f' %(i+1, test_acc))\n",
    "            "
   ]
  },
  {
   "cell_type": "code",
   "execution_count": null,
   "id": "be92614b",
   "metadata": {},
   "outputs": [],
   "source": []
  },
  {
   "cell_type": "code",
   "execution_count": null,
   "id": "302983e0",
   "metadata": {},
   "outputs": [],
   "source": []
  }
 ],
 "metadata": {
  "kernelspec": {
   "display_name": "Python 3 (ipykernel)",
   "language": "python",
   "name": "python3"
  },
  "language_info": {
   "codemirror_mode": {
    "name": "ipython",
    "version": 3
   },
   "file_extension": ".py",
   "mimetype": "text/x-python",
   "name": "python",
   "nbconvert_exporter": "python",
   "pygments_lexer": "ipython3",
   "version": "3.9.7"
  }
 },
 "nbformat": 4,
 "nbformat_minor": 5
}
